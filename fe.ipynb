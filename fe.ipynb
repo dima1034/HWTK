{
 "cells": [
  {
   "cell_type": "code",
   "execution_count": 100,
   "metadata": {
    "cell_style": "center"
   },
   "outputs": [],
   "source": [
    "library(tidyverse)\n",
    "library(feather)\n",
    "library(lubridate)\n",
    "library(magrittr)\n",
    "library(stringr)"
   ]
  },
  {
   "cell_type": "code",
   "execution_count": 101,
   "metadata": {
    "cell_style": "center"
   },
   "outputs": [
    {
     "name": "stderr",
     "output_type": "stream",
     "text": [
      "Warning message:\n",
      "“Coercing int64 to double”Warning message:\n",
      "“Coercing int64 to double”"
     ]
    }
   ],
   "source": [
    "sh_en <- read_feather('../data/feather/en/sh_en.feather')\n",
    "it_en <- read_feather('../data/feather/en/it_en.feather')\n",
    "itc_en <- read_feather('../data/feather/en/itc_en.feather')\n",
    "tr <- read_feather('../data/feather/tr.feather')"
   ]
  },
  {
   "cell_type": "code",
   "execution_count": 102,
   "metadata": {
    "cell_style": "split",
    "collapsed": true
   },
   "outputs": [],
   "source": [
    "item_age <- tr %>% \n",
    "            group_by(it_id) %>% \n",
    "            summarise(age = first(date, order_by = date),\n",
    "                      recency = last(date, order_by = date),\n",
    "                      growth = recency - age) \n",
    "\n",
    "it_en %<>% \n",
    "  left_join(item_age, by='it_id')\n",
    "\n",
    "tr %<>% \n",
    "  left_join(it_en %>% select(it_id, age, recency, itc_id), by='it_id')"
   ]
  },
  {
   "cell_type": "code",
   "execution_count": 103,
   "metadata": {
    "cell_style": "split"
   },
   "outputs": [
    {
     "data": {
      "text/html": [
       "<table>\n",
       "<thead><tr><th scope=col>it_id</th><th scope=col>age</th><th scope=col>recency</th><th scope=col>growth</th></tr></thead>\n",
       "<tbody>\n",
       "\t<tr><td>0         </td><td>2014-09-01</td><td>2014-09-01</td><td>  0 days  </td></tr>\n",
       "\t<tr><td>1         </td><td>2014-04-02</td><td>2014-10-20</td><td>201 days  </td></tr>\n",
       "\t<tr><td>2         </td><td>2014-08-24</td><td>2014-11-12</td><td> 80 days  </td></tr>\n",
       "\t<tr><td>3         </td><td>2014-07-05</td><td>2014-08-26</td><td> 52 days  </td></tr>\n",
       "\t<tr><td>4         </td><td>2014-09-19</td><td>2014-09-19</td><td>  0 days  </td></tr>\n",
       "\t<tr><td>5         </td><td>2014-12-14</td><td>2014-12-14</td><td>  0 days  </td></tr>\n",
       "</tbody>\n",
       "</table>\n"
      ],
      "text/latex": [
       "\\begin{tabular}{r|llll}\n",
       " it\\_id & age & recency & growth\\\\\n",
       "\\hline\n",
       "\t 0          & 2014-09-01 & 2014-09-01 &   0 days  \\\\\n",
       "\t 1          & 2014-04-02 & 2014-10-20 & 201 days  \\\\\n",
       "\t 2          & 2014-08-24 & 2014-11-12 &  80 days  \\\\\n",
       "\t 3          & 2014-07-05 & 2014-08-26 &  52 days  \\\\\n",
       "\t 4          & 2014-09-19 & 2014-09-19 &   0 days  \\\\\n",
       "\t 5          & 2014-12-14 & 2014-12-14 &   0 days  \\\\\n",
       "\\end{tabular}\n"
      ],
      "text/markdown": [
       "\n",
       "it_id | age | recency | growth | \n",
       "|---|---|---|---|---|---|\n",
       "| 0          | 2014-09-01 | 2014-09-01 |   0 days   | \n",
       "| 1          | 2014-04-02 | 2014-10-20 | 201 days   | \n",
       "| 2          | 2014-08-24 | 2014-11-12 |  80 days   | \n",
       "| 3          | 2014-07-05 | 2014-08-26 |  52 days   | \n",
       "| 4          | 2014-09-19 | 2014-09-19 |   0 days   | \n",
       "| 5          | 2014-12-14 | 2014-12-14 |   0 days   | \n",
       "\n",
       "\n"
      ],
      "text/plain": [
       "  it_id age        recency    growth  \n",
       "1 0     2014-09-01 2014-09-01   0 days\n",
       "2 1     2014-04-02 2014-10-20 201 days\n",
       "3 2     2014-08-24 2014-11-12  80 days\n",
       "4 3     2014-07-05 2014-08-26  52 days\n",
       "5 4     2014-09-19 2014-09-19   0 days\n",
       "6 5     2014-12-14 2014-12-14   0 days"
      ]
     },
     "metadata": {},
     "output_type": "display_data"
    }
   ],
   "source": [
    "head(item_age)"
   ]
  },
  {
   "cell_type": "code",
   "execution_count": 104,
   "metadata": {
    "cell_style": "center",
    "code_folding": [
     0
    ],
    "collapsed": true
   },
   "outputs": [],
   "source": [
    "# Reduce the item category to the below major categories\n",
    "# seperate based on console type\n",
    "\n",
    "itc_en %<>% \n",
    "  mutate(en_itc_name = str_to_lower(en_itc_name)) %>% \n",
    "  mutate(mtype = if_else(str_detect(en_itc_name, 'accessor'), 'acc', \n",
    "                  if_else(str_detect(en_itc_name, 'game consoles'), 'gc', \n",
    "                    if_else(str_detect(en_itc_name, 'games'), 'games',\n",
    "                      if_else(str_detect(en_itc_name, 'books'), 'books',\n",
    "                        if_else(str_detect(en_itc_name, 'programs'), 'programs',\n",
    "                          if_else(str_detect(en_itc_name, 'gift'), 'gifts',\n",
    "                            if_else(str_detect(en_itc_name, 'movie'), 'movie',\n",
    "                              if_else(str_detect(en_itc_name, 'music'), 'music', 'misc')))))))))\n",
    "\n",
    "itc_en %<>% \n",
    "  mutate(console_type = if_else(str_detect(en_itc_name, 'ps2'), 'ps2',\n",
    "                          if_else(str_detect(en_itc_name, 'ps3'), 'ps3',\n",
    "                             if_else(str_detect(en_itc_name, 'ps4'), 'ps4',\n",
    "                               if_else(str_detect(en_itc_name, 'pc'), 'pc',\n",
    "                                  if_else(str_detect(en_itc_name, 'ps4'), 'ps4',\n",
    "                             if_else(str_detect(en_itc_name, 'xbox 360'), 'xbox 360',\n",
    "                                     if_else(str_detect(en_itc_name, 'xbox one'), 'xbox one', 'zero'))))))))"
   ]
  },
  {
   "cell_type": "code",
   "execution_count": 105,
   "metadata": {
    "cell_style": "split"
   },
   "outputs": [],
   "source": [
    "tr %<>% \n",
    "  left_join(itc_en %>% select(itc_id, mtype), by='itc_id')\n",
    "\n",
    "tr %<>% \n",
    "  mutate(week_age = as.numeric(difftime(date, age, units=\"weeks\"))) %>% \n",
    "  select(-recency)\n",
    "# Main data frame define\n",
    "df <- tr %>% \n",
    "  group_by(dbn, s_id, it_id) %>% \n",
    "  summarise(sales = sum(count), avg_age = mean(week_age)) %>% \n",
    "  ungroup"
   ]
  },
  {
   "cell_type": "code",
   "execution_count": 106,
   "metadata": {
    "cell_style": "split"
   },
   "outputs": [
    {
     "data": {
      "text/html": [
       "<table>\n",
       "<thead><tr><th scope=col>dbn</th><th scope=col>s_id</th><th scope=col>it_id</th><th scope=col>sales</th><th scope=col>avg_age</th></tr></thead>\n",
       "<tbody>\n",
       "\t<tr><td>0       </td><td>0       </td><td>32      </td><td>6       </td><td>2.714286</td></tr>\n",
       "\t<tr><td>0       </td><td>0       </td><td>33      </td><td>3       </td><td>2.142857</td></tr>\n",
       "\t<tr><td>0       </td><td>0       </td><td>35      </td><td>1       </td><td>1.142857</td></tr>\n",
       "\t<tr><td>0       </td><td>0       </td><td>43      </td><td>1       </td><td>3.571429</td></tr>\n",
       "\t<tr><td>0       </td><td>0       </td><td>51      </td><td>2       </td><td>2.857143</td></tr>\n",
       "\t<tr><td>0       </td><td>0       </td><td>61      </td><td>1       </td><td>0.000000</td></tr>\n",
       "</tbody>\n",
       "</table>\n"
      ],
      "text/latex": [
       "\\begin{tabular}{r|lllll}\n",
       " dbn & s\\_id & it\\_id & sales & avg\\_age\\\\\n",
       "\\hline\n",
       "\t 0        & 0        & 32       & 6        & 2.714286\\\\\n",
       "\t 0        & 0        & 33       & 3        & 2.142857\\\\\n",
       "\t 0        & 0        & 35       & 1        & 1.142857\\\\\n",
       "\t 0        & 0        & 43       & 1        & 3.571429\\\\\n",
       "\t 0        & 0        & 51       & 2        & 2.857143\\\\\n",
       "\t 0        & 0        & 61       & 1        & 0.000000\\\\\n",
       "\\end{tabular}\n"
      ],
      "text/markdown": [
       "\n",
       "dbn | s_id | it_id | sales | avg_age | \n",
       "|---|---|---|---|---|---|\n",
       "| 0        | 0        | 32       | 6        | 2.714286 | \n",
       "| 0        | 0        | 33       | 3        | 2.142857 | \n",
       "| 0        | 0        | 35       | 1        | 1.142857 | \n",
       "| 0        | 0        | 43       | 1        | 3.571429 | \n",
       "| 0        | 0        | 51       | 2        | 2.857143 | \n",
       "| 0        | 0        | 61       | 1        | 0.000000 | \n",
       "\n",
       "\n"
      ],
      "text/plain": [
       "  dbn s_id it_id sales avg_age \n",
       "1 0   0    32    6     2.714286\n",
       "2 0   0    33    3     2.142857\n",
       "3 0   0    35    1     1.142857\n",
       "4 0   0    43    1     3.571429\n",
       "5 0   0    51    2     2.857143\n",
       "6 0   0    61    1     0.000000"
      ]
     },
     "metadata": {},
     "output_type": "display_data"
    }
   ],
   "source": [
    "head(df)"
   ]
  },
  {
   "cell_type": "code",
   "execution_count": 107,
   "metadata": {
    "cell_style": "split",
    "collapsed": true
   },
   "outputs": [],
   "source": [
    "# Add previous month for joining with other df\n",
    "df %<>% \n",
    "  mutate(prev_dbn = dbn-1)\n",
    "\n",
    "# previous month sales average for a shop and total number \n",
    "# of items each shop selling\n",
    "df %<>% \n",
    "  left_join(df %>% \n",
    "              group_by(dbn, s_id) %>% \n",
    "              summarize(shop_sales = mean(sales), it_count = n()),\n",
    "            by=c(\"prev_dbn\" = \"dbn\", \"s_id\"))\n",
    "\n",
    "# previous month item average sales and total number of shop's selling them.\n",
    "df %<>% \n",
    "left_join(df %>% \n",
    "            group_by(dbn, it_id) %>% \n",
    "            summarize(it_sales = mean(sales), shop_count = n()),\n",
    "          by=c(\"prev_dbn\" = \"dbn\", \"it_id\"))\n",
    "\n",
    "# previous month shop, item sales\n",
    "df %<>% \n",
    "  left_join(df %>% \n",
    "              select(dbn, s_id, it_id, sales) %>% \n",
    "              rename(prev_sales = sales),\n",
    "            by = c(\"prev_dbn\" = \"dbn\", \"s_id\", \"it_id\")) \n"
   ]
  },
  {
   "cell_type": "code",
   "execution_count": 108,
   "metadata": {
    "cell_style": "split"
   },
   "outputs": [
    {
     "data": {
      "text/html": [
       "<table>\n",
       "<thead><tr><th scope=col>dbn</th><th scope=col>s_id</th><th scope=col>it_id</th><th scope=col>sales</th><th scope=col>avg_age</th><th scope=col>prev_dbn</th><th scope=col>shop_sales</th><th scope=col>it_count</th><th scope=col>it_sales</th><th scope=col>shop_count</th><th scope=col>prev_sales</th></tr></thead>\n",
       "<tbody>\n",
       "\t<tr><td>18        </td><td>56        </td><td> 2578     </td><td> 2        </td><td>  3.142857</td><td>17        </td><td>1.787543  </td><td>1445      </td><td> 2.727273 </td><td>22        </td><td>NA        </td></tr>\n",
       "\t<tr><td> 6        </td><td>47        </td><td>14931     </td><td> 2        </td><td> 29.214286</td><td> 5        </td><td>1.841871  </td><td> 898      </td><td> 3.310345 </td><td>29        </td><td> 2        </td></tr>\n",
       "\t<tr><td> 4        </td><td>51        </td><td>18509     </td><td> 3        </td><td> 18.904762</td><td> 3        </td><td>1.651104  </td><td>1178      </td><td> 1.285714 </td><td> 7        </td><td> 3        </td></tr>\n",
       "\t<tr><td> 1        </td><td>31        </td><td>16229     </td><td> 5        </td><td>  5.642857</td><td> 0        </td><td>3.004430  </td><td>3386      </td><td> 1.571429 </td><td> 7        </td><td> 1        </td></tr>\n",
       "\t<tr><td>20        </td><td>31        </td><td>11903     </td><td> 1        </td><td> 34.000000</td><td>19        </td><td>2.943612  </td><td>2802      </td><td> 1.375000 </td><td> 8        </td><td> 3        </td></tr>\n",
       "\t<tr><td>14        </td><td> 4        </td><td> 2854     </td><td> 4        </td><td> 62.678571</td><td>13        </td><td>1.896350  </td><td> 685      </td><td> 2.096774 </td><td>31        </td><td> 1        </td></tr>\n",
       "\t<tr><td> 2        </td><td>19        </td><td> 6340     </td><td> 1        </td><td>  8.428571</td><td> 1        </td><td>2.067104  </td><td>1371      </td><td> 1.000000 </td><td> 1        </td><td>NA        </td></tr>\n",
       "\t<tr><td> 1        </td><td>15        </td><td> 3077     </td><td> 1        </td><td>  7.714286</td><td> 0        </td><td>2.214634  </td><td>1230      </td><td> 2.750000 </td><td>28        </td><td> 3        </td></tr>\n",
       "\t<tr><td>32        </td><td>42        </td><td>21672     </td><td> 1        </td><td> 39.428571</td><td>31        </td><td>2.448562  </td><td>1565      </td><td> 1.100000 </td><td>10        </td><td> 2        </td></tr>\n",
       "\t<tr><td>23        </td><td>19        </td><td>10748     </td><td> 2        </td><td>  1.142857</td><td>22        </td><td>2.155242  </td><td> 992      </td><td>       NA </td><td>NA        </td><td>NA        </td></tr>\n",
       "\t<tr><td> 1        </td><td>54        </td><td>22103     </td><td> 1        </td><td>  6.428571</td><td> 0        </td><td>2.838222  </td><td>3307      </td><td> 1.000000 </td><td> 3        </td><td> 1        </td></tr>\n",
       "\t<tr><td>12        </td><td>25        </td><td> 6489     </td><td> 2        </td><td> 51.857143</td><td>11        </td><td>3.506810  </td><td>3451      </td><td> 1.000000 </td><td> 2        </td><td>NA        </td></tr>\n",
       "\t<tr><td>24        </td><td>52        </td><td>15279     </td><td> 1        </td><td> 58.571429</td><td>23        </td><td>2.090401  </td><td>1073      </td><td> 1.827586 </td><td>29        </td><td> 1        </td></tr>\n",
       "\t<tr><td>16        </td><td>37        </td><td> 2929     </td><td> 1        </td><td> 72.428571</td><td>15        </td><td>1.798095  </td><td> 525      </td><td> 1.416667 </td><td>12        </td><td> 1        </td></tr>\n",
       "\t<tr><td>14        </td><td>31        </td><td>15136     </td><td>10        </td><td> 21.125000</td><td>13        </td><td>3.268817  </td><td>2976      </td><td> 4.280000 </td><td>25        </td><td> 3        </td></tr>\n",
       "\t<tr><td> 2        </td><td>24        </td><td>21536     </td><td> 2        </td><td> 10.071429</td><td> 1        </td><td>1.789157  </td><td> 996      </td><td> 1.500000 </td><td> 4        </td><td>NA        </td></tr>\n",
       "\t<tr><td>11        </td><td> 7        </td><td>16021     </td><td> 3        </td><td> 50.571429</td><td>10        </td><td>2.295880  </td><td>1068      </td><td> 1.466667 </td><td>15        </td><td>NA        </td></tr>\n",
       "\t<tr><td>10        </td><td>54        </td><td>14560     </td><td> 1        </td><td> 46.714286</td><td> 9        </td><td>2.510718  </td><td>2659      </td><td>       NA </td><td>NA        </td><td>NA        </td></tr>\n",
       "\t<tr><td>10        </td><td>54        </td><td>21919     </td><td>12        </td><td>  2.836735</td><td> 9        </td><td>2.510718  </td><td>2659      </td><td> 2.882353 </td><td>34        </td><td> 9        </td></tr>\n",
       "\t<tr><td>24        </td><td>54        </td><td> 5822     </td><td>25        </td><td>106.241071</td><td>23        </td><td>3.289203  </td><td>2334      </td><td>16.062500 </td><td>48        </td><td>21        </td></tr>\n",
       "</tbody>\n",
       "</table>\n"
      ],
      "text/latex": [
       "\\begin{tabular}{r|lllllllllll}\n",
       " dbn & s\\_id & it\\_id & sales & avg\\_age & prev\\_dbn & shop\\_sales & it\\_count & it\\_sales & shop\\_count & prev\\_sales\\\\\n",
       "\\hline\n",
       "\t 18         & 56         &  2578      &  2         &   3.142857 & 17         & 1.787543   & 1445       &  2.727273  & 22         & NA        \\\\\n",
       "\t  6         & 47         & 14931      &  2         &  29.214286 &  5         & 1.841871   &  898       &  3.310345  & 29         &  2        \\\\\n",
       "\t  4         & 51         & 18509      &  3         &  18.904762 &  3         & 1.651104   & 1178       &  1.285714  &  7         &  3        \\\\\n",
       "\t  1         & 31         & 16229      &  5         &   5.642857 &  0         & 3.004430   & 3386       &  1.571429  &  7         &  1        \\\\\n",
       "\t 20         & 31         & 11903      &  1         &  34.000000 & 19         & 2.943612   & 2802       &  1.375000  &  8         &  3        \\\\\n",
       "\t 14         &  4         &  2854      &  4         &  62.678571 & 13         & 1.896350   &  685       &  2.096774  & 31         &  1        \\\\\n",
       "\t  2         & 19         &  6340      &  1         &   8.428571 &  1         & 2.067104   & 1371       &  1.000000  &  1         & NA        \\\\\n",
       "\t  1         & 15         &  3077      &  1         &   7.714286 &  0         & 2.214634   & 1230       &  2.750000  & 28         &  3        \\\\\n",
       "\t 32         & 42         & 21672      &  1         &  39.428571 & 31         & 2.448562   & 1565       &  1.100000  & 10         &  2        \\\\\n",
       "\t 23         & 19         & 10748      &  2         &   1.142857 & 22         & 2.155242   &  992       &        NA  & NA         & NA        \\\\\n",
       "\t  1         & 54         & 22103      &  1         &   6.428571 &  0         & 2.838222   & 3307       &  1.000000  &  3         &  1        \\\\\n",
       "\t 12         & 25         &  6489      &  2         &  51.857143 & 11         & 3.506810   & 3451       &  1.000000  &  2         & NA        \\\\\n",
       "\t 24         & 52         & 15279      &  1         &  58.571429 & 23         & 2.090401   & 1073       &  1.827586  & 29         &  1        \\\\\n",
       "\t 16         & 37         &  2929      &  1         &  72.428571 & 15         & 1.798095   &  525       &  1.416667  & 12         &  1        \\\\\n",
       "\t 14         & 31         & 15136      & 10         &  21.125000 & 13         & 3.268817   & 2976       &  4.280000  & 25         &  3        \\\\\n",
       "\t  2         & 24         & 21536      &  2         &  10.071429 &  1         & 1.789157   &  996       &  1.500000  &  4         & NA        \\\\\n",
       "\t 11         &  7         & 16021      &  3         &  50.571429 & 10         & 2.295880   & 1068       &  1.466667  & 15         & NA        \\\\\n",
       "\t 10         & 54         & 14560      &  1         &  46.714286 &  9         & 2.510718   & 2659       &        NA  & NA         & NA        \\\\\n",
       "\t 10         & 54         & 21919      & 12         &   2.836735 &  9         & 2.510718   & 2659       &  2.882353  & 34         &  9        \\\\\n",
       "\t 24         & 54         &  5822      & 25         & 106.241071 & 23         & 3.289203   & 2334       & 16.062500  & 48         & 21        \\\\\n",
       "\\end{tabular}\n"
      ],
      "text/markdown": [
       "\n",
       "dbn | s_id | it_id | sales | avg_age | prev_dbn | shop_sales | it_count | it_sales | shop_count | prev_sales | \n",
       "|---|---|---|---|---|---|---|---|---|---|---|---|---|---|---|---|---|---|---|---|\n",
       "| 18         | 56         |  2578      |  2         |   3.142857 | 17         | 1.787543   | 1445       |  2.727273  | 22         | NA         | \n",
       "|  6         | 47         | 14931      |  2         |  29.214286 |  5         | 1.841871   |  898       |  3.310345  | 29         |  2         | \n",
       "|  4         | 51         | 18509      |  3         |  18.904762 |  3         | 1.651104   | 1178       |  1.285714  |  7         |  3         | \n",
       "|  1         | 31         | 16229      |  5         |   5.642857 |  0         | 3.004430   | 3386       |  1.571429  |  7         |  1         | \n",
       "| 20         | 31         | 11903      |  1         |  34.000000 | 19         | 2.943612   | 2802       |  1.375000  |  8         |  3         | \n",
       "| 14         |  4         |  2854      |  4         |  62.678571 | 13         | 1.896350   |  685       |  2.096774  | 31         |  1         | \n",
       "|  2         | 19         |  6340      |  1         |   8.428571 |  1         | 2.067104   | 1371       |  1.000000  |  1         | NA         | \n",
       "|  1         | 15         |  3077      |  1         |   7.714286 |  0         | 2.214634   | 1230       |  2.750000  | 28         |  3         | \n",
       "| 32         | 42         | 21672      |  1         |  39.428571 | 31         | 2.448562   | 1565       |  1.100000  | 10         |  2         | \n",
       "| 23         | 19         | 10748      |  2         |   1.142857 | 22         | 2.155242   |  992       |        NA  | NA         | NA         | \n",
       "|  1         | 54         | 22103      |  1         |   6.428571 |  0         | 2.838222   | 3307       |  1.000000  |  3         |  1         | \n",
       "| 12         | 25         |  6489      |  2         |  51.857143 | 11         | 3.506810   | 3451       |  1.000000  |  2         | NA         | \n",
       "| 24         | 52         | 15279      |  1         |  58.571429 | 23         | 2.090401   | 1073       |  1.827586  | 29         |  1         | \n",
       "| 16         | 37         |  2929      |  1         |  72.428571 | 15         | 1.798095   |  525       |  1.416667  | 12         |  1         | \n",
       "| 14         | 31         | 15136      | 10         |  21.125000 | 13         | 3.268817   | 2976       |  4.280000  | 25         |  3         | \n",
       "|  2         | 24         | 21536      |  2         |  10.071429 |  1         | 1.789157   |  996       |  1.500000  |  4         | NA         | \n",
       "| 11         |  7         | 16021      |  3         |  50.571429 | 10         | 2.295880   | 1068       |  1.466667  | 15         | NA         | \n",
       "| 10         | 54         | 14560      |  1         |  46.714286 |  9         | 2.510718   | 2659       |        NA  | NA         | NA         | \n",
       "| 10         | 54         | 21919      | 12         |   2.836735 |  9         | 2.510718   | 2659       |  2.882353  | 34         |  9         | \n",
       "| 24         | 54         |  5822      | 25         | 106.241071 | 23         | 3.289203   | 2334       | 16.062500  | 48         | 21         | \n",
       "\n",
       "\n"
      ],
      "text/plain": [
       "   dbn s_id it_id sales avg_age    prev_dbn shop_sales it_count it_sales \n",
       "1  18  56    2578  2      3.142857 17       1.787543   1445      2.727273\n",
       "2   6  47   14931  2     29.214286  5       1.841871    898      3.310345\n",
       "3   4  51   18509  3     18.904762  3       1.651104   1178      1.285714\n",
       "4   1  31   16229  5      5.642857  0       3.004430   3386      1.571429\n",
       "5  20  31   11903  1     34.000000 19       2.943612   2802      1.375000\n",
       "6  14   4    2854  4     62.678571 13       1.896350    685      2.096774\n",
       "7   2  19    6340  1      8.428571  1       2.067104   1371      1.000000\n",
       "8   1  15    3077  1      7.714286  0       2.214634   1230      2.750000\n",
       "9  32  42   21672  1     39.428571 31       2.448562   1565      1.100000\n",
       "10 23  19   10748  2      1.142857 22       2.155242    992            NA\n",
       "11  1  54   22103  1      6.428571  0       2.838222   3307      1.000000\n",
       "12 12  25    6489  2     51.857143 11       3.506810   3451      1.000000\n",
       "13 24  52   15279  1     58.571429 23       2.090401   1073      1.827586\n",
       "14 16  37    2929  1     72.428571 15       1.798095    525      1.416667\n",
       "15 14  31   15136 10     21.125000 13       3.268817   2976      4.280000\n",
       "16  2  24   21536  2     10.071429  1       1.789157    996      1.500000\n",
       "17 11   7   16021  3     50.571429 10       2.295880   1068      1.466667\n",
       "18 10  54   14560  1     46.714286  9       2.510718   2659            NA\n",
       "19 10  54   21919 12      2.836735  9       2.510718   2659      2.882353\n",
       "20 24  54    5822 25    106.241071 23       3.289203   2334     16.062500\n",
       "   shop_count prev_sales\n",
       "1  22         NA        \n",
       "2  29          2        \n",
       "3   7          3        \n",
       "4   7          1        \n",
       "5   8          3        \n",
       "6  31          1        \n",
       "7   1         NA        \n",
       "8  28          3        \n",
       "9  10          2        \n",
       "10 NA         NA        \n",
       "11  3          1        \n",
       "12  2         NA        \n",
       "13 29          1        \n",
       "14 12          1        \n",
       "15 25          3        \n",
       "16  4         NA        \n",
       "17 15         NA        \n",
       "18 NA         NA        \n",
       "19 34          9        \n",
       "20 48         21        "
      ]
     },
     "metadata": {},
     "output_type": "display_data"
    }
   ],
   "source": [
    "df %>% sample_n(20)"
   ]
  },
  {
   "cell_type": "code",
   "execution_count": 109,
   "metadata": {
    "cell_style": "split"
   },
   "outputs": [],
   "source": [
    "# Add lag features\n",
    "lag_times = c(2, 3 ,6, 9, 12)\n",
    "\n",
    "for (i in lag_times){\n",
    "    lag_field  <- paste('lag_sales_', as.character(i), sep = '')\n",
    "    \n",
    "    df %<>% \n",
    "        mutate(lag_dbn = dbn-i) %>% \n",
    "        left_join(df %>% \n",
    "                    select(dbn, s_id, it_id, sales) %>% \n",
    "                    rename(!!lag_field := sales),\n",
    "                  by = c(\"lag_dbn\" = \"dbn\", \"s_id\", \"it_id\"))\n",
    "}"
   ]
  },
  {
   "cell_type": "code",
   "execution_count": 141,
   "metadata": {
    "cell_style": "split"
   },
   "outputs": [
    {
     "data": {
      "text/html": [
       "<table>\n",
       "<thead><tr><th scope=col>dbn</th><th scope=col>s_id</th><th scope=col>it_id</th><th scope=col>sales</th><th scope=col>avg_age</th><th scope=col>prev_dbn</th><th scope=col>shop_sales</th><th scope=col>it_count</th><th scope=col>it_sales</th><th scope=col>shop_count</th><th scope=col>prev_sales</th><th scope=col>lag_dbn</th><th scope=col>lag_sales_2</th><th scope=col>lag_sales_3</th><th scope=col>lag_sales_6</th><th scope=col>lag_sales_9</th><th scope=col>lag_sales_12</th></tr></thead>\n",
       "<tbody>\n",
       "\t<tr><td>28        </td><td>31        </td><td>21619     </td><td>1         </td><td>124.571429</td><td>27        </td><td>3.060025  </td><td>2399      </td><td>1.250000  </td><td> 8        </td><td> 1        </td><td>16        </td><td> 1        </td><td> 4        </td><td>NA        </td><td> 4        </td><td> 1        </td></tr>\n",
       "\t<tr><td>30        </td><td>47        </td><td>13300     </td><td>2         </td><td>  1.500000</td><td>29        </td><td>2.148148  </td><td> 810      </td><td>      NA  </td><td>NA        </td><td>NA        </td><td>18        </td><td>NA        </td><td>NA        </td><td>NA        </td><td>NA        </td><td>NA        </td></tr>\n",
       "\t<tr><td>28        </td><td>25        </td><td> 6625     </td><td>2         </td><td> 56.357143</td><td>27        </td><td>2.864146  </td><td>2142      </td><td>1.083333  </td><td>12        </td><td> 1        </td><td>16        </td><td> 1        </td><td> 1        </td><td> 1        </td><td>NA        </td><td> 2        </td></tr>\n",
       "\t<tr><td>24        </td><td>21        </td><td> 4334     </td><td>1         </td><td>  9.857143</td><td>23        </td><td>2.539448  </td><td>1559      </td><td>4.279070  </td><td>43        </td><td> 2        </td><td>12        </td><td> 1        </td><td>NA        </td><td>NA        </td><td>NA        </td><td>NA        </td></tr>\n",
       "\t<tr><td>11        </td><td>31        </td><td> 7055     </td><td>3         </td><td> 14.190476</td><td>10        </td><td>3.504939  </td><td>3341      </td><td>1.733333  </td><td>15        </td><td> 2        </td><td>-1        </td><td> 5        </td><td>14        </td><td>NA        </td><td>NA        </td><td>NA        </td></tr>\n",
       "\t<tr><td>22        </td><td>56        </td><td>17890     </td><td>2         </td><td> 24.285714</td><td>21        </td><td>1.696123  </td><td>1109      </td><td>1.000000  </td><td> 5        </td><td>NA        </td><td>10        </td><td>NA        </td><td> 2        </td><td> 2        </td><td>NA        </td><td>NA        </td></tr>\n",
       "\t<tr><td>20        </td><td>28        </td><td> 7213     </td><td>1         </td><td> 77.571429</td><td>19        </td><td>3.263217  </td><td>1778      </td><td>1.724138  </td><td>29        </td><td> 2        </td><td> 8        </td><td> 2        </td><td> 3        </td><td> 4        </td><td> 6        </td><td> 1        </td></tr>\n",
       "\t<tr><td>27        </td><td>48        </td><td> 7895     </td><td>2         </td><td>119.142857</td><td>26        </td><td>1.544855  </td><td> 758      </td><td>2.047619  </td><td>21        </td><td> 1        </td><td>15        </td><td>NA        </td><td> 2        </td><td> 1        </td><td> 1        </td><td>NA        </td></tr>\n",
       "\t<tr><td> 7        </td><td> 6        </td><td> 6635     </td><td>1         </td><td> 32.285714</td><td> 6        </td><td>1.906924  </td><td>1762      </td><td>1.214286  </td><td>14        </td><td>NA        </td><td>-5        </td><td>NA        </td><td>NA        </td><td>NA        </td><td>NA        </td><td>NA        </td></tr>\n",
       "\t<tr><td>29        </td><td>59        </td><td>15063     </td><td>1         </td><td>109.428571</td><td>28        </td><td>1.810277  </td><td> 506      </td><td>1.428571  </td><td>21        </td><td> 1        </td><td>17        </td><td>NA        </td><td> 2        </td><td> 2        </td><td>NA        </td><td> 1        </td></tr>\n",
       "</tbody>\n",
       "</table>\n"
      ],
      "text/latex": [
       "\\begin{tabular}{r|lllllllllllllllll}\n",
       " dbn & s\\_id & it\\_id & sales & avg\\_age & prev\\_dbn & shop\\_sales & it\\_count & it\\_sales & shop\\_count & prev\\_sales & lag\\_dbn & lag\\_sales\\_2 & lag\\_sales\\_3 & lag\\_sales\\_6 & lag\\_sales\\_9 & lag\\_sales\\_12\\\\\n",
       "\\hline\n",
       "\t 28         & 31         & 21619      & 1          & 124.571429 & 27         & 3.060025   & 2399       & 1.250000   &  8         &  1         & 16         &  1         &  4         & NA         &  4         &  1        \\\\\n",
       "\t 30         & 47         & 13300      & 2          &   1.500000 & 29         & 2.148148   &  810       &       NA   & NA         & NA         & 18         & NA         & NA         & NA         & NA         & NA        \\\\\n",
       "\t 28         & 25         &  6625      & 2          &  56.357143 & 27         & 2.864146   & 2142       & 1.083333   & 12         &  1         & 16         &  1         &  1         &  1         & NA         &  2        \\\\\n",
       "\t 24         & 21         &  4334      & 1          &   9.857143 & 23         & 2.539448   & 1559       & 4.279070   & 43         &  2         & 12         &  1         & NA         & NA         & NA         & NA        \\\\\n",
       "\t 11         & 31         &  7055      & 3          &  14.190476 & 10         & 3.504939   & 3341       & 1.733333   & 15         &  2         & -1         &  5         & 14         & NA         & NA         & NA        \\\\\n",
       "\t 22         & 56         & 17890      & 2          &  24.285714 & 21         & 1.696123   & 1109       & 1.000000   &  5         & NA         & 10         & NA         &  2         &  2         & NA         & NA        \\\\\n",
       "\t 20         & 28         &  7213      & 1          &  77.571429 & 19         & 3.263217   & 1778       & 1.724138   & 29         &  2         &  8         &  2         &  3         &  4         &  6         &  1        \\\\\n",
       "\t 27         & 48         &  7895      & 2          & 119.142857 & 26         & 1.544855   &  758       & 2.047619   & 21         &  1         & 15         & NA         &  2         &  1         &  1         & NA        \\\\\n",
       "\t  7         &  6         &  6635      & 1          &  32.285714 &  6         & 1.906924   & 1762       & 1.214286   & 14         & NA         & -5         & NA         & NA         & NA         & NA         & NA        \\\\\n",
       "\t 29         & 59         & 15063      & 1          & 109.428571 & 28         & 1.810277   &  506       & 1.428571   & 21         &  1         & 17         & NA         &  2         &  2         & NA         &  1        \\\\\n",
       "\\end{tabular}\n"
      ],
      "text/markdown": [
       "\n",
       "dbn | s_id | it_id | sales | avg_age | prev_dbn | shop_sales | it_count | it_sales | shop_count | prev_sales | lag_dbn | lag_sales_2 | lag_sales_3 | lag_sales_6 | lag_sales_9 | lag_sales_12 | \n",
       "|---|---|---|---|---|---|---|---|---|---|\n",
       "| 28         | 31         | 21619      | 1          | 124.571429 | 27         | 3.060025   | 2399       | 1.250000   |  8         |  1         | 16         |  1         |  4         | NA         |  4         |  1         | \n",
       "| 30         | 47         | 13300      | 2          |   1.500000 | 29         | 2.148148   |  810       |       NA   | NA         | NA         | 18         | NA         | NA         | NA         | NA         | NA         | \n",
       "| 28         | 25         |  6625      | 2          |  56.357143 | 27         | 2.864146   | 2142       | 1.083333   | 12         |  1         | 16         |  1         |  1         |  1         | NA         |  2         | \n",
       "| 24         | 21         |  4334      | 1          |   9.857143 | 23         | 2.539448   | 1559       | 4.279070   | 43         |  2         | 12         |  1         | NA         | NA         | NA         | NA         | \n",
       "| 11         | 31         |  7055      | 3          |  14.190476 | 10         | 3.504939   | 3341       | 1.733333   | 15         |  2         | -1         |  5         | 14         | NA         | NA         | NA         | \n",
       "| 22         | 56         | 17890      | 2          |  24.285714 | 21         | 1.696123   | 1109       | 1.000000   |  5         | NA         | 10         | NA         |  2         |  2         | NA         | NA         | \n",
       "| 20         | 28         |  7213      | 1          |  77.571429 | 19         | 3.263217   | 1778       | 1.724138   | 29         |  2         |  8         |  2         |  3         |  4         |  6         |  1         | \n",
       "| 27         | 48         |  7895      | 2          | 119.142857 | 26         | 1.544855   |  758       | 2.047619   | 21         |  1         | 15         | NA         |  2         |  1         |  1         | NA         | \n",
       "|  7         |  6         |  6635      | 1          |  32.285714 |  6         | 1.906924   | 1762       | 1.214286   | 14         | NA         | -5         | NA         | NA         | NA         | NA         | NA         | \n",
       "| 29         | 59         | 15063      | 1          | 109.428571 | 28         | 1.810277   |  506       | 1.428571   | 21         |  1         | 17         | NA         |  2         |  2         | NA         |  1         | \n",
       "\n",
       "\n"
      ],
      "text/plain": [
       "   dbn s_id it_id sales avg_age    prev_dbn shop_sales it_count it_sales\n",
       "1  28  31   21619 1     124.571429 27       3.060025   2399     1.250000\n",
       "2  30  47   13300 2       1.500000 29       2.148148    810           NA\n",
       "3  28  25    6625 2      56.357143 27       2.864146   2142     1.083333\n",
       "4  24  21    4334 1       9.857143 23       2.539448   1559     4.279070\n",
       "5  11  31    7055 3      14.190476 10       3.504939   3341     1.733333\n",
       "6  22  56   17890 2      24.285714 21       1.696123   1109     1.000000\n",
       "7  20  28    7213 1      77.571429 19       3.263217   1778     1.724138\n",
       "8  27  48    7895 2     119.142857 26       1.544855    758     2.047619\n",
       "9   7   6    6635 1      32.285714  6       1.906924   1762     1.214286\n",
       "10 29  59   15063 1     109.428571 28       1.810277    506     1.428571\n",
       "   shop_count prev_sales lag_dbn lag_sales_2 lag_sales_3 lag_sales_6\n",
       "1   8          1         16       1           4          NA         \n",
       "2  NA         NA         18      NA          NA          NA         \n",
       "3  12          1         16       1           1           1         \n",
       "4  43          2         12       1          NA          NA         \n",
       "5  15          2         -1       5          14          NA         \n",
       "6   5         NA         10      NA           2           2         \n",
       "7  29          2          8       2           3           4         \n",
       "8  21          1         15      NA           2           1         \n",
       "9  14         NA         -5      NA          NA          NA         \n",
       "10 21          1         17      NA           2           2         \n",
       "   lag_sales_9 lag_sales_12\n",
       "1   4           1          \n",
       "2  NA          NA          \n",
       "3  NA           2          \n",
       "4  NA          NA          \n",
       "5  NA          NA          \n",
       "6  NA          NA          \n",
       "7   6           1          \n",
       "8   1          NA          \n",
       "9  NA          NA          \n",
       "10 NA           1          "
      ]
     },
     "metadata": {},
     "output_type": "display_data"
    }
   ],
   "source": [
    "df %>% sample_n(10)"
   ]
  },
  {
   "cell_type": "code",
   "execution_count": 125,
   "metadata": {
    "code_folding": []
   },
   "outputs": [],
   "source": [
    "# Replace all na with 0\n",
    "\n",
    "sales_columns <- str_detect(colnames(df), 'sales')"
   ]
  },
  {
   "cell_type": "code",
   "execution_count": 132,
   "metadata": {},
   "outputs": [
    {
     "ename": "ERROR",
     "evalue": "Error: is_list(replace) is not TRUE\n",
     "output_type": "error",
     "traceback": [
      "Error: is_list(replace) is not TRUE\nTraceback:\n",
      "1. df[, sales_columns] %>% replace_na(0)",
      "2. withVisible(eval(quote(`_fseq`(`_lhs`)), env, env))",
      "3. eval(quote(`_fseq`(`_lhs`)), env, env)",
      "4. eval(quote(`_fseq`(`_lhs`)), env, env)",
      "5. `_fseq`(`_lhs`)",
      "6. freduce(value, `_function_list`)",
      "7. withVisible(function_list[[k]](value))",
      "8. function_list[[k]](value)",
      "9. replace_na(., 0)",
      "10. replace_na.data.frame(., 0)",
      "11. stopifnot(is_list(replace))",
      "12. stop(msg, call. = FALSE, domain = NA)"
     ]
    }
   ],
   "source": [
    "df[,sales_columns] %>% replace_na(0)"
   ]
  },
  {
   "cell_type": "code",
   "execution_count": 137,
   "metadata": {},
   "outputs": [
    {
     "ename": "ERROR",
     "evalue": "Error: is_list(replace) is not TRUE\n",
     "output_type": "error",
     "traceback": [
      "Error: is_list(replace) is not TRUE\nTraceback:\n",
      "1. df[, sales_columns] %>% replace_na(rep(0, nrow(.))) %>% head",
      "2. withVisible(eval(quote(`_fseq`(`_lhs`)), env, env))",
      "3. eval(quote(`_fseq`(`_lhs`)), env, env)",
      "4. eval(quote(`_fseq`(`_lhs`)), env, env)",
      "5. `_fseq`(`_lhs`)",
      "6. freduce(value, `_function_list`)",
      "7. function_list[[i]](value)",
      "8. replace_na(., rep(0, nrow(.)))",
      "9. replace_na.data.frame(., rep(0, nrow(.)))",
      "10. stopifnot(is_list(replace))",
      "11. stop(msg, call. = FALSE, domain = NA)"
     ]
    }
   ],
   "source": [
    "df[,sales_columns]  %>% replace_na(rep(0, nrow(.))) %>% head"
   ]
  },
  {
   "cell_type": "code",
   "execution_count": 139,
   "metadata": {
    "collapsed": true
   },
   "outputs": [],
   "source": [
    "seq(0, nrow(df))"
   ]
  },
  {
   "cell_type": "code",
   "execution_count": null,
   "metadata": {
    "collapsed": true
   },
   "outputs": [],
   "source": []
  },
  {
   "cell_type": "code",
   "execution_count": null,
   "metadata": {
    "collapsed": true
   },
   "outputs": [],
   "source": []
  },
  {
   "cell_type": "code",
   "execution_count": null,
   "metadata": {
    "collapsed": true
   },
   "outputs": [],
   "source": []
  },
  {
   "cell_type": "code",
   "execution_count": null,
   "metadata": {
    "collapsed": true
   },
   "outputs": [],
   "source": []
  },
  {
   "cell_type": "code",
   "execution_count": null,
   "metadata": {
    "collapsed": true
   },
   "outputs": [],
   "source": []
  },
  {
   "cell_type": "code",
   "execution_count": null,
   "metadata": {
    "collapsed": true
   },
   "outputs": [],
   "source": []
  },
  {
   "cell_type": "code",
   "execution_count": null,
   "metadata": {
    "collapsed": true
   },
   "outputs": [],
   "source": []
  },
  {
   "cell_type": "code",
   "execution_count": null,
   "metadata": {
    "collapsed": true
   },
   "outputs": [],
   "source": []
  },
  {
   "cell_type": "code",
   "execution_count": null,
   "metadata": {
    "collapsed": true
   },
   "outputs": [],
   "source": []
  }
 ],
 "metadata": {
  "kernelspec": {
   "display_name": "R",
   "language": "R",
   "name": "ir"
  },
  "language_info": {
   "codemirror_mode": "r",
   "file_extension": ".r",
   "mimetype": "text/x-r-source",
   "name": "R",
   "pygments_lexer": "r",
   "version": "3.4.2"
  }
 },
 "nbformat": 4,
 "nbformat_minor": 2
}
